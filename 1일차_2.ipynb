{
  "nbformat": 4,
  "nbformat_minor": 0,
  "metadata": {
    "kernelspec": {
      "display_name": "Python 3",
      "language": "python",
      "name": "python3"
    },
    "language_info": {
      "codemirror_mode": {
        "name": "ipython",
        "version": 3
      },
      "file_extension": ".py",
      "mimetype": "text/x-python",
      "name": "python",
      "nbconvert_exporter": "python",
      "pygments_lexer": "ipython3",
      "version": "3.6.12"
    },
    "colab": {
      "name": "1일차_2.ipynb",
      "provenance": [],
      "collapsed_sections": []
    }
  },
  "cells": [
    {
      "cell_type": "code",
      "metadata": {
        "id": "F6GAPgCtOf__"
      },
      "source": [
        "import numpy as np\n",
        "import os, matplotlib\n",
        "from matplotlib import pyplot as plt\n",
        "\n",
        "### Tensorflow 2.0 ###\n",
        "import tensorflow as tf\n",
        "from tensorflow import keras\n",
        "from tensorflow.keras.models import Sequential, Model\n",
        "from tensorflow.keras import Input\n",
        "from tensorflow.keras import layers\n",
        "from tensorflow.keras import models\n",
        "from tensorflow.keras.preprocessing import image\n",
        "from tensorflow.keras.preprocessing.image import ImageDataGenerator\n",
        "from tensorflow.keras import losses\n",
        "from tensorflow.keras import optimizers\n",
        "from tensorflow.keras import metrics\n",
        "from tensorflow.keras import regularizers\n",
        "from tensorflow.keras import utils"
      ],
      "execution_count": 1,
      "outputs": []
    },
    {
      "cell_type": "code",
      "metadata": {
        "colab": {
          "base_uri": "https://localhost:8080/"
        },
        "id": "AVxuwrXROgAB",
        "outputId": "e232e4f8-3681-4306-cdb0-c35a7c059a55"
      },
      "source": [
        "(x_train, y_train), (x_test, y_test)=keras.datasets.mnist.load_data(path='minist.npz')\n",
        "print(x_train.shape, y_train.shape)"
      ],
      "execution_count": 2,
      "outputs": [
        {
          "output_type": "stream",
          "text": [
            "(60000, 28, 28) (60000,)\n"
          ],
          "name": "stdout"
        }
      ]
    },
    {
      "cell_type": "code",
      "metadata": {
        "colab": {
          "base_uri": "https://localhost:8080/"
        },
        "id": "jQOxmh0nOgAC",
        "outputId": "7f5aa916-697d-40b4-d7d6-8c463e44e56b"
      },
      "source": [
        "x_train_list = []\n",
        "x_test_list = []\n",
        "for i, i_ in enumerate(x_train[:60000]):\n",
        "    arr = np.zeros(shape=(32, 32))\n",
        "    arr[:28,:28] = x_train[i]\n",
        "    x_train_list.append(arr)\n",
        "for i, i_ in enumerate(x_test[:20000]):\n",
        "    arr = np.zeros(shape=(32, 32))\n",
        "    arr[:28,:28] = x_test[i]\n",
        "    x_test_list.append(arr)\n",
        "\n",
        "x_train1 = np.expand_dims(np.array(x_train_list), axis=-1)\n",
        "x_test1 = np.expand_dims(np.array(x_test_list), axis=-1)\n",
        "print(x_train1.shape, x_test1.shape)"
      ],
      "execution_count": 3,
      "outputs": [
        {
          "output_type": "stream",
          "text": [
            "(60000, 32, 32, 1) (10000, 32, 32, 1)\n"
          ],
          "name": "stdout"
        }
      ]
    },
    {
      "cell_type": "code",
      "metadata": {
        "colab": {
          "base_uri": "https://localhost:8080/"
        },
        "id": "GDa0MTNQOgAC",
        "outputId": "ed34dd13-3bf4-4c35-e66c-44729603b967"
      },
      "source": [
        "y_train_list = []\n",
        "y_test_list = []\n",
        "for i, i_ in enumerate(y_train[:60000]):\n",
        "    zero = [0]*10\n",
        "    zero[i_] = 1\n",
        "    y_train_list.append(zero)\n",
        "\n",
        "for i, i_ in enumerate(y_test[:20000]):\n",
        "    zero = [0]*10\n",
        "    zero[i_] = 1\n",
        "    y_test_list.append(zero)    \n",
        "    \n",
        "y_train1 = np.array(y_train_list)\n",
        "y_test1 = np.array(y_test_list)\n",
        "print(y_train1.shape, y_test1.shape)"
      ],
      "execution_count": 4,
      "outputs": [
        {
          "output_type": "stream",
          "text": [
            "(60000, 10) (10000, 10)\n"
          ],
          "name": "stdout"
        }
      ]
    },
    {
      "cell_type": "code",
      "metadata": {
        "colab": {
          "base_uri": "https://localhost:8080/",
          "height": 228
        },
        "id": "3hjKOZXVOgAD",
        "outputId": "b5c4c13e-ccbf-4a5a-b91a-6357fb883a9d"
      },
      "source": [
        "plt.figure(figsize=(10,10))\n",
        "for i in range(3):\n",
        "    plt.subplot(1,3,i+1)\n",
        "    plt.imshow(x_train1[i][...,0], cmap='gray')\n",
        "    plt.title('Class = {}'.format(y_train[i]))"
      ],
      "execution_count": 5,
      "outputs": [
        {
          "output_type": "display_data",
          "data": {
            "image/png": "[encoded data removed]",
            "text/plain": [
              "<Figure size 720x720 with 3 Axes>"
            ]
          },
          "metadata": {
            "tags": [],
            "needs_background": "light"
          }
        }
      ]
    },
    {
      "cell_type": "code",
      "metadata": {
        "id": "L5PTwiqyOgAD"
      },
      "source": [
        "zero_layer = Input(shape=(32, 32, 1))\n",
        "first_layer = layers.Conv2D(filters=8, kernel_size=(3, 3), activation=None, padding='same')(zero_layer)\n",
        "second_layer = layers.Conv2D(filters=16, kernel_size=(3, 3), activation=None, padding='same')(first_layer)\n",
        "third_layer = layers.BatchNormalization()(second_layer)\n",
        "fourth_layer = layers.Activation('relu')(third_layer)\n",
        "fifth_layer = layers.MaxPool2D(strides=(2, 2))(fourth_layer)\n",
        "sixth_layer = layers.Flatten()(fifth_layer)\n",
        "seventh_layer = layers.Dense(100, activation = 'relu')(sixth_layer)\n",
        "eighth_layer = layers.Dropout(0.25)(seventh_layer)\n",
        "final_layer =  layers.Dense(10, activation='sigmoid')(eighth_layer)"
      ],
      "execution_count": 6,
      "outputs": []
    },
    {
      "cell_type": "code",
      "metadata": {
        "id": "7jQ7AgQPOgAD"
      },
      "source": [
        "model = Model(zero_layer, final_layer)"
      ],
      "execution_count": 7,
      "outputs": []
    },
    {
      "cell_type": "code",
      "metadata": {
        "colab": {
          "base_uri": "https://localhost:8080/"
        },
        "id": "E6Ur5q_0OgAE",
        "outputId": "62283ef4-9403-4817-bc28-6ce0ddb11699"
      },
      "source": [
        "model.summary()"
      ],
      "execution_count": 8,
      "outputs": [
        {
          "output_type": "stream",
          "text": [
            "Model: \"model\"\n",
            "_________________________________________________________________\n",
            "Layer (type)                 Output Shape              Param #   \n",
            "=================================================================\n",
            "input_1 (InputLayer)         [(None, 32, 32, 1)]       0         \n",
            "_________________________________________________________________\n",
            "conv2d (Conv2D)              (None, 32, 32, 8)         80        \n",
            "_________________________________________________________________\n",
            "conv2d_1 (Conv2D)            (None, 32, 32, 16)        1168      \n",
            "_________________________________________________________________\n",
            "batch_normalization (BatchNo (None, 32, 32, 16)        64        \n",
            "_________________________________________________________________\n",
            "activation (Activation)      (None, 32, 32, 16)        0         \n",
            "_________________________________________________________________\n",
            "max_pooling2d (MaxPooling2D) (None, 16, 16, 16)        0         \n",
            "_________________________________________________________________\n",
            "flatten (Flatten)            (None, 4096)              0         \n",
            "_________________________________________________________________\n",
            "dense (Dense)                (None, 100)               409700    \n",
            "_________________________________________________________________\n",
            "dropout (Dropout)            (None, 100)               0         \n",
            "_________________________________________________________________\n",
            "dense_1 (Dense)              (None, 10)                1010      \n",
            "=================================================================\n",
            "Total params: 412,022\n",
            "Trainable params: 411,990\n",
            "Non-trainable params: 32\n",
            "_________________________________________________________________\n"
          ],
          "name": "stdout"
        }
      ]
    },
    {
      "cell_type": "code",
      "metadata": {
        "id": "GO1Y9GjNOgAE"
      },
      "source": [
        "model.compile(loss=losses.CategoricalCrossentropy(), optimizer=optimizers.Adam(lr=1e-4), metrics=['accuracy'])"
      ],
      "execution_count": 9,
      "outputs": []
    },
    {
      "cell_type": "code",
      "metadata": {
        "colab": {
          "base_uri": "https://localhost:8080/"
        },
        "id": "Mg3Cx7SvOgAE",
        "outputId": "dd5c8700-6170-46d7-b31d-f270ba280080"
      },
      "source": [
        "history = model.fit(x_train1, y_train1, epochs=20, batch_size=32, \n",
        "                    validation_data=(x_test1, y_test1), shuffle=True)"
      ],
      "execution_count": 10,
      "outputs": [
        {
          "output_type": "stream",
          "text": [
            "Epoch 1/20\n",
            "1875/1875 [==============================] - 81s 43ms/step - loss: 0.6147 - accuracy: 0.8095 - val_loss: 0.1201 - val_accuracy: 0.9663\n",
            "Epoch 2/20\n",
            "1875/1875 [==============================] - 80s 43ms/step - loss: 0.1464 - accuracy: 0.9561 - val_loss: 0.0770 - val_accuracy: 0.9766\n",
            "Epoch 3/20\n",
            "1875/1875 [==============================] - 80s 43ms/step - loss: 0.0951 - accuracy: 0.9719 - val_loss: 0.0579 - val_accuracy: 0.9815\n",
            "Epoch 4/20\n",
            "1875/1875 [==============================] - 81s 43ms/step - loss: 0.0720 - accuracy: 0.9781 - val_loss: 0.0497 - val_accuracy: 0.9827\n",
            "Epoch 5/20\n",
            "1875/1875 [==============================] - 81s 43ms/step - loss: 0.0544 - accuracy: 0.9830 - val_loss: 0.0459 - val_accuracy: 0.9845\n",
            "Epoch 6/20\n",
            "1875/1875 [==============================] - 82s 44ms/step - loss: 0.0477 - accuracy: 0.9856 - val_loss: 0.0410 - val_accuracy: 0.9862\n",
            "Epoch 7/20\n",
            "1875/1875 [==============================] - 82s 43ms/step - loss: 0.0367 - accuracy: 0.9892 - val_loss: 0.0422 - val_accuracy: 0.9847\n",
            "Epoch 8/20\n",
            "1875/1875 [==============================] - 82s 44ms/step - loss: 0.0364 - accuracy: 0.9882 - val_loss: 0.0385 - val_accuracy: 0.9875\n",
            "Epoch 9/20\n",
            "1875/1875 [==============================] - 82s 44ms/step - loss: 0.0324 - accuracy: 0.9904 - val_loss: 0.0419 - val_accuracy: 0.9862\n",
            "Epoch 10/20\n",
            "1875/1875 [==============================] - 82s 44ms/step - loss: 0.0269 - accuracy: 0.9916 - val_loss: 0.0399 - val_accuracy: 0.9865\n",
            "Epoch 11/20\n",
            "1875/1875 [==============================] - 82s 44ms/step - loss: 0.0273 - accuracy: 0.9909 - val_loss: 0.0355 - val_accuracy: 0.9888\n",
            "Epoch 12/20\n",
            "1875/1875 [==============================] - 82s 44ms/step - loss: 0.0210 - accuracy: 0.9937 - val_loss: 0.0473 - val_accuracy: 0.9849\n",
            "Epoch 13/20\n",
            "1875/1875 [==============================] - 82s 44ms/step - loss: 0.0200 - accuracy: 0.9939 - val_loss: 0.0353 - val_accuracy: 0.9889\n",
            "Epoch 14/20\n",
            "1875/1875 [==============================] - 82s 44ms/step - loss: 0.0189 - accuracy: 0.9940 - val_loss: 0.0405 - val_accuracy: 0.9877\n",
            "Epoch 15/20\n",
            "1875/1875 [==============================] - 82s 44ms/step - loss: 0.0155 - accuracy: 0.9947 - val_loss: 0.0407 - val_accuracy: 0.9881\n",
            "Epoch 16/20\n",
            "1875/1875 [==============================] - 83s 44ms/step - loss: 0.0160 - accuracy: 0.9944 - val_loss: 0.0392 - val_accuracy: 0.9891\n",
            "Epoch 17/20\n",
            "1875/1875 [==============================] - 82s 44ms/step - loss: 0.0139 - accuracy: 0.9954 - val_loss: 0.0389 - val_accuracy: 0.9884\n",
            "Epoch 18/20\n",
            "1875/1875 [==============================] - 82s 44ms/step - loss: 0.0124 - accuracy: 0.9957 - val_loss: 0.0399 - val_accuracy: 0.9888\n",
            "Epoch 19/20\n",
            "1875/1875 [==============================] - 83s 44ms/step - loss: 0.0116 - accuracy: 0.9962 - val_loss: 0.0365 - val_accuracy: 0.9895\n",
            "Epoch 20/20\n",
            "1875/1875 [==============================] - 83s 44ms/step - loss: 0.0118 - accuracy: 0.9964 - val_loss: 0.0443 - val_accuracy: 0.9876\n"
          ],
          "name": "stdout"
        }
      ]
    },
    {
      "cell_type": "code",
      "metadata": {
        "id": "FkHOU5wnOgAE"
      },
      "source": [
        "acc = history.history['accuracy']\n",
        "val_acc = history.history['val_accuracy']\n",
        "loss = history.history['loss']\n",
        "val_loss = history.history['val_loss']\n",
        "epochs = range(1,len(acc)+1)"
      ],
      "execution_count": 11,
      "outputs": []
    },
    {
      "cell_type": "code",
      "metadata": {
        "colab": {
          "base_uri": "https://localhost:8080/",
          "height": 545
        },
        "id": "-IrKifyQOgAF",
        "outputId": "5301692d-1fca-40b4-84b7-2e72df851032"
      },
      "source": [
        "plt.plot(epochs, acc, 'b', color='blue', label='Training acc')\n",
        "plt.plot(epochs, val_acc, 'b', color='red', label='Validation acc')\n",
        "plt.title('Training and validation accuracy', color='w')\n",
        "plt.legend()\n",
        "\n",
        "plt.figure()\n",
        "\n",
        "plt.plot(epochs, loss, 'b', color='blue', label='Training loss')\n",
        "plt.plot(epochs, val_loss, 'b', color='red', label='Validation loss')\n",
        "plt.title('Training and validation loss', color='w')\n",
        "plt.legend()\n",
        "\n",
        "plt.show()"
      ],
      "execution_count": 12,
      "outputs": [
        {
          "output_type": "display_data",
          "data": {
            "image/png": "[encoded data removed]",
            "text/plain": [
              "<Figure size 432x288 with 1 Axes>"
            ]
          },
          "metadata": {
            "tags": [],
            "needs_background": "light"
          }
        },
        {
          "output_type": "display_data",
          "data": {
            "image/png": "[encoded data removed]",
            "text/plain": [
              "<Figure size 432x288 with 1 Axes>"
            ]
          },
          "metadata": {
            "tags": [],
            "needs_background": "light"
          }
        }
      ]
    }
  ]
}